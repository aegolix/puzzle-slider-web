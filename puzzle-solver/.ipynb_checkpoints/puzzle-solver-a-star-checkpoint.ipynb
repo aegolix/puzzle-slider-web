{
 "cells": [
  {
   "cell_type": "code",
   "execution_count": null,
   "id": "8b8f4aea-60b8-481a-8e1c-7145d4b938f0",
   "metadata": {},
   "outputs": [],
   "source": []
  },
  {
   "cell_type": "code",
   "execution_count": null,
   "id": "4615f357-82b5-4891-90ce-fa81ad3cecc2",
   "metadata": {},
   "outputs": [],
   "source": [
    "class PuzzleSolver:\n",
    "    def __init__(self, n, numlist, goal_state):\n",
    "        self.n = n\n",
    "        self.numlist = numlist\n",
    "        self.expanded_states = [] # a unique list\n",
    "        self.frontier = {} # a dict {state_n: [g(n), f(n)]}, desc by f(n) \n",
    "        self.goal_state = goal_state\n",
    "        \n",
    "    def get_zero(self, state):\n",
    "        zero_id = state.index(0)\n",
    "        return self.get_ij(zero_id)\n",
    "    \n",
    "    def get_ij(self, pos):\n",
    "        return pos // self.n, pos % self.n\n",
    "    \n",
    "    def get_pos(self, i, j):\n",
    "        return self.n * i + j\n",
    "    \n",
    "    def get_indv_manhattan(self, pos, val):\n",
    "        goal_pos = self.goal_state.index(val)\n",
    "        goal_i, goal_j = self.get_ij(goal_pos)\n",
    "        \n",
    "        pos_i, pos_j = self.get_ij(pos)\n",
    "        \n",
    "        indv_man_d = abs(goal_i + goal_j - pos_i - pos_j)\n",
    "        \n",
    "        return indv_man_d\n",
    "    \n",
    "    def get_hcost_manhattan(self, state):\n",
    "        # get manhattan distance of all tile \n",
    "        # to each's correct position in goal state\n",
    "        man_d = 0\n",
    "        for i in range(self.n):\n",
    "            man_d += self.get_indv_manhattan(i, state[i])\n",
    "        return man_d\n",
    "    \n",
    "    def is_continue_searching(self):\n",
    "        # state in frontier with least f\n",
    "        next_state = None\n",
    "        if len(self.frontier) > 0:\n",
    "            next_state = list(self.frontier.items())[-1][0]\n",
    "        return next_state != None and next_state != self.goal_state\n",
    "    \n",
    "    def swap_tile(self, curr_state, curr_i, curr_j, target_i, target_j):\n",
    "        temp_state = curr_state.copy()\n",
    "        tmp = temp_state[self.get_pos(curr_i, curr_j)]\n",
    "        temp_state[curr_i, curr_j] = temp_state[target_i, target_j]\n",
    "        temp_state[target_i, target_j] = tmp\n",
    "        return temp_state\n",
    "    \n",
    "    def get_next_actions(self, curr_action):\n",
    "        curr_state, curr_costs = curr_action\n",
    "        curr_gcost, curr_fcost = curr_costs\n",
    "        \n",
    "        zero_i, zero_j = self.get_zero(curr_action)\n",
    "        next_actions = []\n",
    "        \n",
    "        # top\n",
    "        if zero_i > 0:\n",
    "            top_i = zero_i - 1\n",
    "            \n",
    "            \n",
    "        \n",
    "        \n",
    "    def solve(self):\n",
    "        # get zero tile\n",
    "        zero_i, zero_j = self.get_zero(self.numlist)\n",
    "                \n",
    "        # add input state into the frontier with current fcost\n",
    "        # f(n) = g(n) + h(n)\n",
    "        f_init_state = 0 + self.get_hcost_manhattan(self.numlist)\n",
    "        self.frontier[self.numlist] = [0, f_init_state]\n",
    "        \n",
    "        # while there is still states in the frontier \n",
    "        # or not reaching goal state yet\n",
    "        while self.is_continue_searching():\n",
    "            curr_action = self.frontier.popitem() # move = (state, [g, f])\n",
    "            \n",
    "            # marked this state as visited\n",
    "            self.expanded_states.append(curr_item[0])\n",
    "            \n",
    "            # generate a bunch of next actions\n",
    "            "
   ]
  },
  {
   "cell_type": "code",
   "execution_count": null,
   "id": "0cf50b98-1140-4e22-b537-4e483cb7e648",
   "metadata": {},
   "outputs": [],
   "source": [
    "1 4 7     2 5 7\n",
    "2 5 8     1 4 8\n",
    "3 6 0     0 3 6"
   ]
  },
  {
   "cell_type": "code",
   "execution_count": null,
   "id": "0d945d4f-5f47-4bc7-a6fb-9a0325af05c8",
   "metadata": {},
   "outputs": [],
   "source": [
    "goal_i, goal_j = ij of goal.index(input_v[l = 8]: 6) = 2, 1\n",
    "input_i, input_j = ij of 8 = 2, 2\n",
    "man = abs(2+1-2-2) = 1"
   ]
  },
  {
   "cell_type": "code",
   "execution_count": 12,
   "id": "2b4bb886-046f-4ed6-91dd-8eb1f0379c37",
   "metadata": {
    "tags": []
   },
   "outputs": [
    {
     "name": "stdout",
     "output_type": "stream",
     "text": [
      "('abc', [1, 4, 5])\n",
      "1 4 5\n"
     ]
    }
   ],
   "source": [
    "a = {'a': [6, 3], 'bb': [1, 16], 'aa': [3, 4], 'abc': [1,4,5]}\n",
    "list(a.items())[-1]\n",
    "ele = a.popitem()\n",
    "print(ele)\n",
    "c,d,f = ele[1]\n",
    "print(c,d,f)"
   ]
  },
  {
   "cell_type": "code",
   "execution_count": 14,
   "id": "79e52072-c94b-4c37-b4c5-766fdb5f5698",
   "metadata": {
    "tags": []
   },
   "outputs": [
    {
     "name": "stdout",
     "output_type": "stream",
     "text": [
      "True\n"
     ]
    },
    {
     "data": {
      "text/plain": [
       "([1, 2, 3], [100, 2, 3])"
      ]
     },
     "execution_count": 14,
     "metadata": {},
     "output_type": "execute_result"
    }
   ],
   "source": [
    "b = [1,2,3]\n",
    "c = [1,2,3]\n",
    "print(b == c)\n",
    "d = c.copy()\n",
    "d[0] = 100\n",
    "c, d"
   ]
  }
 ],
 "metadata": {
  "kernelspec": {
   "display_name": "Python 3 (ipykernel)",
   "language": "python",
   "name": "python3"
  },
  "language_info": {
   "codemirror_mode": {
    "name": "ipython",
    "version": 3
   },
   "file_extension": ".py",
   "mimetype": "text/x-python",
   "name": "python",
   "nbconvert_exporter": "python",
   "pygments_lexer": "ipython3",
   "version": "3.8.10"
  }
 },
 "nbformat": 4,
 "nbformat_minor": 5
}
